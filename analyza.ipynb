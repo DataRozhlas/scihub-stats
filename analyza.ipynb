{
 "cells": [
  {
   "cell_type": "code",
   "execution_count": 1,
   "metadata": {
    "collapsed": true
   },
   "outputs": [],
   "source": [
    "import pandas as pd\n",
    "import numpy as np\n",
    "import matplotlib.pyplot as plt\n",
    "%matplotlib inline\n",
    "from crossref.restful import Works"
   ]
  },
  {
   "cell_type": "code",
   "execution_count": 69,
   "metadata": {
    "collapsed": true
   },
   "outputs": [],
   "source": [
    "plt.rcParams[\"figure.figsize\"] = (20,10)"
   ]
  },
  {
   "cell_type": "code",
   "execution_count": 2,
   "metadata": {
    "collapsed": true
   },
   "outputs": [],
   "source": [
    "data = pd.read_csv('./cesko.csv')"
   ]
  },
  {
   "cell_type": "code",
   "execution_count": 3,
   "metadata": {
    "collapsed": true
   },
   "outputs": [],
   "source": [
    "data.columns = ['date', 'doi', 'ip_id', 'user_id', 'country', 'city', 'lat', 'lon']"
   ]
  },
  {
   "cell_type": "code",
   "execution_count": 38,
   "metadata": {},
   "outputs": [],
   "source": [
    "data['den'] = data.date.apply(lambda x: str(x).split(' ')[0])"
   ]
  },
  {
   "cell_type": "code",
   "execution_count": 75,
   "metadata": {},
   "outputs": [],
   "source": [
    "data['mesic'] = data.den.apply(lambda x: x.split('-')[1])"
   ]
  },
  {
   "cell_type": "code",
   "execution_count": 4,
   "metadata": {
    "collapsed": true
   },
   "outputs": [],
   "source": [
    "works = Works()"
   ]
  },
  {
   "cell_type": "code",
   "execution_count": 5,
   "metadata": {},
   "outputs": [
    {
     "data": {
      "text/plain": [
       "311161"
      ]
     },
     "execution_count": 5,
     "metadata": {},
     "output_type": "execute_result"
    }
   ],
   "source": [
    "len(data.doi.unique())"
   ]
  },
  {
   "cell_type": "code",
   "execution_count": 20,
   "metadata": {},
   "outputs": [
    {
     "data": {
      "text/plain": [
       "26664"
      ]
     },
     "execution_count": 20,
     "metadata": {},
     "output_type": "execute_result"
    }
   ],
   "source": [
    "len(data.ip_id.unique())"
   ]
  },
  {
   "cell_type": "code",
   "execution_count": 6,
   "metadata": {},
   "outputs": [
    {
     "data": {
      "text/plain": [
       "Prague                0.542060\n",
       "Brno                  0.143010\n",
       "Olomouc               0.042987\n",
       "České Budějovice      0.040957\n",
       "Hradec Králové        0.018572\n",
       "Pilsen                0.017833\n",
       "Ostrava               0.015174\n",
       "Liberec               0.011268\n",
       "Veselí nad Lužnicí    0.010350\n",
       "Zlín                  0.008563\n",
       "Name: city, dtype: float64"
      ]
     },
     "execution_count": 6,
     "metadata": {},
     "output_type": "execute_result"
    }
   ],
   "source": [
    "data.city.value_counts(normalize=True).head(10)"
   ]
  },
  {
   "cell_type": "code",
   "execution_count": 8,
   "metadata": {
    "collapsed": true
   },
   "outputs": [],
   "source": [
    "d = data.to_dict(orient='index')"
   ]
  },
  {
   "cell_type": "code",
   "execution_count": 9,
   "metadata": {
    "collapsed": true
   },
   "outputs": [],
   "source": [
    "city_cnt = {}\n",
    "for v in d:\n",
    "    doi = d[v]['doi']\n",
    "    city = d[v]['city']\n",
    "    if doi not in city_cnt:\n",
    "        city_cnt[doi] = []\n",
    "    if city not in city_cnt[doi]:\n",
    "        city_cnt[doi].append(city)"
   ]
  },
  {
   "cell_type": "code",
   "execution_count": 10,
   "metadata": {
    "collapsed": true
   },
   "outputs": [],
   "source": [
    "cty = {}\n",
    "for row in city_cnt:\n",
    "    cty[row] = len(city_cnt[row])"
   ]
  },
  {
   "cell_type": "code",
   "execution_count": 11,
   "metadata": {
    "collapsed": true
   },
   "outputs": [],
   "source": [
    "xa = sorted(cty.items(), key=lambda x:x[1],reverse=True)"
   ]
  },
  {
   "cell_type": "code",
   "execution_count": 25,
   "metadata": {},
   "outputs": [],
   "source": [
    "data.date = pd.to_datetime(data.date)"
   ]
  },
  {
   "cell_type": "code",
   "execution_count": 12,
   "metadata": {},
   "outputs": [
    {
     "name": "stdout",
     "output_type": "stream",
     "text": [
      "11 10.1007/s12119-013-9205-2 ['The Dildo as a Transformative Political Tool: Feminist and Queer Perspectives']\n",
      "10 10.1007/s10508-008-9430-1 ['Sex Differences in Infants’ Visual Interest in Toys']\n",
      "7 10.1023/A\n",
      "7 10.1126/science.1156965 ['Fine Structure Constant Defines Visual Transparency of Graphene']\n",
      "7 10.1177/107906329300600305 ['The Relationships Among Height, Penile Length, and Foot Size']\n",
      "6 10.1038/35104607 ['Photoelectrochemical cells']\n",
      "6 10.1038/nrneurol.2011.2 ['Epidemiology of Alzheimer disease']\n",
      "6 10.1038/nature06614 ['Broad phylogenomic sampling improves resolution of the animal tree of life']\n",
      "6 10.1038/nature20604 ['Sideband cooling beyond the quantum backaction limit with squeezed light']\n",
      "6 10.1006/meth.2001.1262 ['Analysis of Relative Gene Expression Data Using Real-Time Quantitative PCR and the 2−ΔΔCT Method']\n",
      "6 10.1002/adsc.201501123 ['Efficient Metal-Free Aerobic Photooxidation of Sulfides to Sulfoxides Mediated by a Vitamin B2Derivative and Visible Light']\n",
      "6 10.1038/nrd3028 ['Membrane transporters in drug development']\n",
      "6 10.1016/S0140-6736(07)60464-4 ['Development of a rational scale to assess the harm of drugs of potential misuse']\n",
      "6 10.1111/pce.12270 ['Cytokinin modulates proteomic, transcriptomic and growth responses to temperature shocks inArabidopsis']\n",
      "6 10.1126/science.1230444 ['The Chemistry and Applications of Metal-Organic Frameworks']\n",
      "6 10.1038/nrmicro.2016.197 ['Mimivirus: leading the way in the discovery of giant viruses of amoebae']\n",
      "6 10.1007/s12603-016-0821-z ['Vitamin D status and the risk of recurrent stroke and mortality in ischemic stroke patients: Data from a 24-month follow-up study in China']\n",
      "5 10.3828/cfc.1986.10.1.007 [\"FRENCH IN THE VALLE D'AOSTA: THE ILLUSION AND THE AGONY\"]\n",
      "5 10.1037/h0093718 ['Studies of independence and conformity: I. A minority of one against a unanimous majority.']\n"
     ]
    }
   ],
   "source": [
    "#podle postu mest\n",
    "for c in xa[1:20]:\n",
    "    try:\n",
    "        print(c[1], c[0], works.doi(c[0])['title'])\n",
    "    except:\n",
    "        print(c[1], c[0])"
   ]
  },
  {
   "cell_type": "code",
   "execution_count": 13,
   "metadata": {},
   "outputs": [
    {
     "name": "stdout",
     "output_type": "stream",
     "text": [
      "10.1126/science.aac4716 ['Estimating the reproducibility of psychological science'] 110\n",
      "10.1007/s10508-010-9618-z ['Infants’ Preferences for Toys, Colors, and Shapes: Sex Differences and Similarities'] 55\n",
      "10.1007/s12119-013-9205-2 ['The Dildo as a Transformative Political Tool: Feminist and Queer Perspectives'] 41\n",
      "10.1007/s12371-016-0212-1 ['Targeting Sustainability Issues at Geosites: a Study in Região dos Lagos, Rio de Janeiro, Brazil'] 33\n",
      "10.1146/annurev.pathmechdis.3.121806.151518 ['The Origins of Medulloblastoma Subtypes'] 33\n",
      "10.1016/0021-9797(75)90110-1 ['The exchange capacities of kaolinite and the preparation of homoionic clays'] 30\n",
      "10.1007/s10508-008-9430-1 ['Sex Differences in Infants’ Visual Interest in Toys'] 29\n",
      "10.1177/107906329300600305 ['The Relationships Among Height, Penile Length, and Foot Size'] 28\n",
      "10.1007/3-540-27134-1_43 ['Mining Industry and SEA — An Example in Turkey'] 26\n",
      "10.1007/s12371-017-0219-2 ['Conservation and Geotourism Perspectives at Granite Geoheritage Sites of Waldviertel, Austria'] 22\n",
      "10.1080/02688867.1992.9726853 ['Strategic environmental assessment: an overview'] 20\n",
      "10.1103/PhysRevB.87.014104 ['Insights into the atomic and electronic structure triggered by ordered nitrogen vacancies in CrN'] 19\n",
      "10.1016/s0378-1135(00)00157-7 ['Adsorption of Salmonella enteritidis by cetylpyridinium-exchanged montmorillonite clays'] 18\n",
      "10.1038/nrg.2016.49 ['Coming of age: ten years of next-generation sequencing technologies'] 17\n",
      "10.1038/nature15697 ['A comprehensive phylogeny of birds (Aves) using targeted next-generation DNA sequencing'] 17\n",
      "10.1158/1535-7163.mct-17-0018 ['Synthesis and Profiling of a Novel Potent Selective Inhibitor of CHK1 Kinase Possessing Unusual N-trifluoromethylpyrazole Pharmacophore Resistant to Metabolic N-dealkylation'] 16\n",
      "10.1038/nchem.2662 ['From helical to planar chirality by on-surface chemistry'] 15\n",
      "10.1145/2959100.2959189 ['Recommender Systems for Self-Actualization'] 14\n",
      "10.1111/2041-210x.12735 ['Decoupling phylogenetic and functional diversity to reveal hidden signals in community assembly'] 13\n",
      "10.1177/107780102237407 ['“Gender Symmetry” in Domestic Violence'] 13\n"
     ]
    }
   ],
   "source": [
    "#podle zajmu useru\n",
    "for da in data.groupby('doi').user_id.nunique().sort_values(ascending=False).reset_index().values[0:20]:\n",
    "    try:\n",
    "        print(da[0], works.doi(da[0])['title'], da[1])\n",
    "    except:\n",
    "        print(da[0], 'XXX', da[1])"
   ]
  },
  {
   "cell_type": "code",
   "execution_count": 82,
   "metadata": {},
   "outputs": [],
   "source": [
    "#podle zajmu instituci\n",
    "out = []\n",
    "for da in data.groupby('doi').user_id.nunique().sort_values(ascending=False).reset_index().values[0:100]:\n",
    "    try:\n",
    "        out.append([da[0], works.doi(da[0])['title'][0], da[1]])\n",
    "    except:\n",
    "        out.append([da[0], None, da[1]])"
   ]
  },
  {
   "cell_type": "code",
   "execution_count": 83,
   "metadata": {},
   "outputs": [],
   "source": [
    "o = pd.DataFrame.from_dict(out)"
   ]
  },
  {
   "cell_type": "code",
   "execution_count": 84,
   "metadata": {},
   "outputs": [
    {
     "data": {
      "text/html": [
       "<div>\n",
       "<style>\n",
       "    .dataframe thead tr:only-child th {\n",
       "        text-align: right;\n",
       "    }\n",
       "\n",
       "    .dataframe thead th {\n",
       "        text-align: left;\n",
       "    }\n",
       "\n",
       "    .dataframe tbody tr th {\n",
       "        vertical-align: top;\n",
       "    }\n",
       "</style>\n",
       "<table border=\"1\" class=\"dataframe\">\n",
       "  <thead>\n",
       "    <tr style=\"text-align: right;\">\n",
       "      <th></th>\n",
       "      <th>0</th>\n",
       "      <th>1</th>\n",
       "      <th>2</th>\n",
       "    </tr>\n",
       "  </thead>\n",
       "  <tbody>\n",
       "    <tr>\n",
       "      <th>0</th>\n",
       "      <td>10.1126/science.aac4716</td>\n",
       "      <td>Estimating the reproducibility of psychologica...</td>\n",
       "      <td>110</td>\n",
       "    </tr>\n",
       "    <tr>\n",
       "      <th>1</th>\n",
       "      <td>10.1007/s10508-010-9618-z</td>\n",
       "      <td>Infants’ Preferences for Toys, Colors, and Sha...</td>\n",
       "      <td>55</td>\n",
       "    </tr>\n",
       "    <tr>\n",
       "      <th>2</th>\n",
       "      <td>10.1007/s12119-013-9205-2</td>\n",
       "      <td>The Dildo as a Transformative Political Tool: ...</td>\n",
       "      <td>41</td>\n",
       "    </tr>\n",
       "    <tr>\n",
       "      <th>3</th>\n",
       "      <td>10.1007/s12371-016-0212-1</td>\n",
       "      <td>Targeting Sustainability Issues at Geosites: a...</td>\n",
       "      <td>33</td>\n",
       "    </tr>\n",
       "    <tr>\n",
       "      <th>4</th>\n",
       "      <td>10.1146/annurev.pathmechdis.3.121806.151518</td>\n",
       "      <td>The Origins of Medulloblastoma Subtypes</td>\n",
       "      <td>33</td>\n",
       "    </tr>\n",
       "  </tbody>\n",
       "</table>\n",
       "</div>"
      ],
      "text/plain": [
       "                                             0  \\\n",
       "0                      10.1126/science.aac4716   \n",
       "1                    10.1007/s10508-010-9618-z   \n",
       "2                    10.1007/s12119-013-9205-2   \n",
       "3                    10.1007/s12371-016-0212-1   \n",
       "4  10.1146/annurev.pathmechdis.3.121806.151518   \n",
       "\n",
       "                                                   1    2  \n",
       "0  Estimating the reproducibility of psychologica...  110  \n",
       "1  Infants’ Preferences for Toys, Colors, and Sha...   55  \n",
       "2  The Dildo as a Transformative Political Tool: ...   41  \n",
       "3  Targeting Sustainability Issues at Geosites: a...   33  \n",
       "4            The Origins of Medulloblastoma Subtypes   33  "
      ]
     },
     "execution_count": 84,
     "metadata": {},
     "output_type": "execute_result"
    }
   ],
   "source": [
    "o.head()"
   ]
  },
  {
   "cell_type": "code",
   "execution_count": 76,
   "metadata": {},
   "outputs": [],
   "source": [
    "sl = data.groupby('mesic').stazeno.sum().reset_index()"
   ]
  },
  {
   "cell_type": "code",
   "execution_count": 78,
   "metadata": {},
   "outputs": [
    {
     "data": {
      "text/plain": [
       "[<matplotlib.lines.Line2D at 0x195125c6630>]"
      ]
     },
     "execution_count": 78,
     "metadata": {},
     "output_type": "execute_result"
    },
    {
     "data": {
      "image/png": "[encoded data removed]",
      "text/plain": [
       "<matplotlib.figure.Figure at 0x195125aef28>"
      ]
     },
     "metadata": {},
     "output_type": "display_data"
    }
   ],
   "source": [
    "plt.plot_date(sl.mesic, sl.stazeno)"
   ]
  }
 ],
 "metadata": {
  "kernelspec": {
   "display_name": "Python 3",
   "language": "python",
   "name": "python3"
  },
  "language_info": {
   "codemirror_mode": {
    "name": "ipython",
    "version": 3
   },
   "file_extension": ".py",
   "mimetype": "text/x-python",
   "name": "python",
   "nbconvert_exporter": "python",
   "pygments_lexer": "ipython3",
   "version": "3.6.3"
  }
 },
 "nbformat": 4,
 "nbformat_minor": 2
}
